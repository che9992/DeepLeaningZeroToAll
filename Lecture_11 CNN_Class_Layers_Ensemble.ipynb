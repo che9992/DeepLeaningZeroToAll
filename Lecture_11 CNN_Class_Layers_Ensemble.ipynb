{
 "cells": [
  {
   "cell_type": "markdown",
   "metadata": {},
   "source": [
    "# Lecture 11\n",
    "## CNN Class Layers Ensemble\n",
    "<hr/>"
   ]
  },
  {
   "cell_type": "markdown",
   "metadata": {},
   "source": [
    "### make Class \n",
    "```python\n",
    "class Model:\n",
    "    def __init__(self, sess, name):\n",
    "        self.sess = sess\n",
    "        self.name = name\n",
    "        self._build_net()\n",
    "        \n",
    "    def _build_net(self):\n",
    "        with tf.variable_scope(self.name):\n",
    "            self.X = tf.placeholder(tf.float32, [None, 784])\n",
    "            X_img = tf.reshape(self.X, [-1, 28, 28, 1])\n",
    "            self.Y = tf.placeholder(tf.float32, [None, 10])\n",
    "            \n",
    "            W1 = tf.Variable(tf.random_normal([3, 3, 1, 32], stddev=0.01))\n",
    "            \n",
    "            ...\n",
    "            \n",
    "            \n",
    "    def predict(self, x_test, keep_prop = 1.0):\n",
    "        return self.sess.run(self.logits, feed_dict = {self.X: x_test, self.keep_prob: keep_prob})\n",
    "    \n",
    "    def get_accuracy(self, x_test, y_test, keep_prop = 1.0):\n",
    "        return self.sess.run(self.accuracy, feed_dict = {self.X: x_test, self.Y: y_test, self.keep_prob: keep_prob})\n",
    "    \n",
    "    def train(self, x_data, y_data, keep_prop = 1.0):\n",
    "        return self.sess.run([self.cost, self.optimizer], feed_dict = {self.X: x_test, self.keep_prob: keep_prob})\n",
    "    \n",
    "  \n",
    "sess = tf.Session()\n",
    "m1 = Model(sess, 'm1')\n",
    "\n",
    "batch_size = 100\n",
    "training_epochs = 10\n",
    "\n",
    "sess.run(tf.global_variables_initializer())\n",
    "print('started!')\n",
    "\n",
    "for epoch in range(training_epochs):\n",
    "    avg_cost = 0\n",
    "    total_batch = int(mnist.train.num_examples / batch_size)\n",
    "    \n",
    "    for i in range(total_batch):\n",
    "        batch_xs, batch_ys = mnist.train.next_batch(batch_size)\n",
    "        c, _ = m1.train(batch_xs, batch_ys)\n",
    "        avg_cost += c / total_batch    \n",
    "    \n",
    "```"
   ]
  },
  {
   "cell_type": "markdown",
   "metadata": {},
   "source": [
    "### tf.layers\n",
    "```python\n",
    "conv1 = tf.layers.conv2d(inputs = X_img, filters = 32, kernel_size = [3,3], padding = 'SAME', activation = tf.nn.relu)\n",
    "pool1 = tf.layers.max_pooling2d(inputs = conv1, pool_size = [2,2], padding = 'SAME', strides= 2)\n",
    "dropout1 = tf.layers.dropout(inputs = pool1, rate = 0.7, training = self.training)\n",
    "```"
   ]
  },
  {
   "cell_type": "markdown",
   "metadata": {},
   "source": [
    "## Ensemble\n",
    "<hr/>"
   ]
  },
  {
   "cell_type": "markdown",
   "metadata": {},
   "source": [
    "```python\n",
    "models = []\n",
    "num_models = 7\n",
    "for m in range(num_models):\n",
    "    models.append(Model(sess, 'Model' + str(m)))\n",
    "    \n",
    "sess.run(tf.global_variables_initializer())\n",
    "print('started!')\n",
    "\n",
    "for epoch in range(training_epochs):\n",
    "    avg_cost_list = np.zeros(len(models))\n",
    "    total_batch = int(mnist.train.num_examples / batch_size)\n",
    "    for i in range(total_batch):\n",
    "        batch_xs, batch_ys = mnist.train.next_batch(batch_size)\n",
    "        \n",
    "        for m_idx, m in enumerate(models):\n",
    "            c, _ = m.train(batch_xs, batch_ys)\n",
    "            avg_cost_list[m_idx] += c /total_batch\n",
    "            \n",
    "    print('Epoch:','%04d'%(epoch + 1),'cost=',avg_cost_list)\n",
    "    \n",
    "print('Finished!')\n",
    "```"
   ]
  },
  {
   "cell_type": "markdown",
   "metadata": {},
   "source": [
    "```python\n",
    "test_size = len(mnist.test.labels)\n",
    "predictions = np.zeros(test_size * 10).reshape(test_size, 10)\n",
    "\n",
    "for m_idx, m in enumerate(models):\n",
    "    print(m_idx, 'Accuracy', m.get_accuracy(mnist.test.images, mnist.test.labels))\n",
    "    p = m.predict(mnist.test.images)\n",
    "    predictions += p\n",
    "    \n",
    "ensemble_correct_prediction = tf.equal(tf.argmax(predictions, 1), tf.arg_max(mnist.test.labels, 1))\n",
    "ensemble_accuracy = tf.reduce_mean(tf.cast(ensemble_correct_prediction, tf.float32))\n",
    "print('Ensenble accuracy:', sess.run(ensemble_accuracy))\n",
    "```\n"
   ]
  },
  {
   "cell_type": "code",
   "execution_count": null,
   "metadata": {},
   "outputs": [],
   "source": []
  }
 ],
 "metadata": {
  "kernelspec": {
   "display_name": "Python 3",
   "language": "python",
   "name": "python3"
  },
  "language_info": {
   "codemirror_mode": {
    "name": "ipython",
    "version": 3
   },
   "file_extension": ".py",
   "mimetype": "text/x-python",
   "name": "python",
   "nbconvert_exporter": "python",
   "pygments_lexer": "ipython3",
   "version": "3.6.5"
  }
 },
 "nbformat": 4,
 "nbformat_minor": 2
}
