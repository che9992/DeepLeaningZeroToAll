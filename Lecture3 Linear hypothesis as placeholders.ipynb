{
 "cells": [
  {
   "cell_type": "markdown",
   "metadata": {},
   "source": [
    "# Lecture 3\n",
    "## Linear hypothesis as placeholders"
   ]
  },
  {
   "cell_type": "code",
   "execution_count": 22,
   "metadata": {},
   "outputs": [
    {
     "name": "stdout",
     "output_type": "stream",
     "text": [
      "0 8.933952 [0.33419147] [1.0188789]\n",
      "100 0.0008567675 [0.9810609] [1.1683762]\n",
      "200 0.00043520704 [0.98650175] [1.1487328]\n",
      "300 0.00022107204 [0.9903796] [1.1347328]\n",
      "400 0.00011229884 [0.9931434] [1.1247547]\n",
      "500 5.704338e-05 [0.9951132] [1.1176429]\n",
      "600 2.897651e-05 [0.996517] [1.1125746]\n",
      "700 1.4720392e-05 [0.9975175] [1.1089623]\n",
      "800 7.4765658e-06 [0.9982308] [1.1063874]\n",
      "900 3.7983496e-06 [0.99873894] [1.1045526]\n",
      "1000 1.929507e-06 [0.9991012] [1.1032448]\n",
      "1100 9.8033e-07 [0.99935937] [1.1023128]\n",
      "1200 4.9797984e-07 [0.99954337] [1.1016484]\n",
      "1300 2.5302515e-07 [0.9996746] [1.1011748]\n",
      "1400 1.2862402e-07 [0.9997679] [1.1008376]\n",
      "1500 6.5431415e-08 [0.99983454] [1.1005973]\n",
      "1600 3.324835e-08 [0.99988204] [1.100426]\n",
      "1700 1.6898866e-08 [0.9999159] [1.1003036]\n",
      "1800 8.606878e-09 [0.99993986] [1.1002169]\n",
      "1900 4.381957e-09 [0.99995714] [1.1001546]\n",
      "2000 2.2769655e-09 [0.9999691] [1.1001115]\n",
      "[6.099957]\n",
      "[3.6000342]\n",
      "[2.6000652 4.6000032]\n"
     ]
    }
   ],
   "source": [
    "import tensorflow as tf\n",
    "\n",
    "#x_train = [1,2,3]\n",
    "#y_train = [1,2,3]\n",
    "\n",
    "x_train = tf.placeholder(tf.float32, shape=[None]) # none 은 원하는 값을 아무렇게나 줄수있게끔 \n",
    "y_train = tf.placeholder(tf.float32, shape=[None])\n",
    "\n",
    "W = tf.Variable(tf.random_normal([1]), name = 'weight') \n",
    "b = tf.Variable(tf.random_normal([1]), name = 'bias')\n",
    "\n",
    "hypothesis = x_train * W + b\n",
    "cost = tf.reduce_mean(tf.square(hypothesis - y_train))\n",
    "\n",
    "optimizer = tf.train.GradientDescentOptimizer(learning_rate=0.01)\n",
    "train = optimizer.minimize(cost) \n",
    "\n",
    "sess = tf.Session()\n",
    "sess.run(tf.global_variables_initializer())\n",
    "\n",
    "for step in range(2001):\n",
    "    cost_val, W_val, b_val, _ = sess.run([cost, W, b, train],\n",
    "                                      feed_dict={x_train: [1,2,3,4,5], y_train: [2.1,3.1,4.1,5.1,6.1]})\n",
    "    if step % 100 == 0:\n",
    "        print(step, cost_val, W_val, b_val)\n",
    "\n",
    "# Testing \n",
    "print(sess.run(hypothesis, feed_dict = {x_train: [5]}))\n",
    "print(sess.run(hypothesis, feed_dict = {x_train: [2.5]}))\n",
    "print(sess.run(hypothesis, feed_dict = {x_train: [1.5, 3.5]}))"
   ]
  }
 ],
 "metadata": {
  "kernelspec": {
   "display_name": "Python 3",
   "language": "python",
   "name": "python3"
  },
  "language_info": {
   "codemirror_mode": {
    "name": "ipython",
    "version": 3
   },
   "file_extension": ".py",
   "mimetype": "text/x-python",
   "name": "python",
   "nbconvert_exporter": "python",
   "pygments_lexer": "ipython3",
   "version": "3.6.4"
  }
 },
 "nbformat": 4,
 "nbformat_minor": 2
}
