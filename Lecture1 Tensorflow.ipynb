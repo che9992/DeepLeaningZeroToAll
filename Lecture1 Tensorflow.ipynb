{
 "cells": [
  {
   "cell_type": "code",
   "execution_count": 27,
   "metadata": {},
   "outputs": [],
   "source": [
    "import tensorflow as tf"
   ]
  },
  {
   "cell_type": "markdown",
   "metadata": {},
   "source": [
    "## 아래는 하나의 노드를 만든것 .."
   ]
  },
  {
   "cell_type": "code",
   "execution_count": 28,
   "metadata": {},
   "outputs": [],
   "source": [
    "hello = tf.constant(\"Hello, Tensorflow\") "
   ]
  },
  {
   "cell_type": "code",
   "execution_count": 29,
   "metadata": {},
   "outputs": [],
   "source": [
    "sess = tf.Session()"
   ]
  },
  {
   "cell_type": "code",
   "execution_count": 30,
   "metadata": {},
   "outputs": [
    {
     "name": "stdout",
     "output_type": "stream",
     "text": [
      "b'Hello, Tensorflow'\n"
     ]
    }
   ],
   "source": [
    "print(sess.run(hello))"
   ]
  },
  {
   "cell_type": "code",
   "execution_count": 31,
   "metadata": {},
   "outputs": [],
   "source": [
    "node1 = tf.constant(3.0, tf.float32)\n",
    "node2 = tf.constant(4.0)\n",
    "node3 = tf.add(node1, node2) # node3 = node1 + node2"
   ]
  },
  {
   "cell_type": "markdown",
   "metadata": {},
   "source": [
    "## 텐션플로우는 이렇게해서 실행 할 수 없다 \n",
    "그냥 하나의 텐서, 노드일뿐이다. \n",
    "세션을 만들어서 실행해야한다 .\n",
    "\n",
    "1. Build graph (tensors) using TF operations # ex) node1 = tf.constant(3.0)\n",
    "2. feed data and run graph (operations) # ex) tf.Session() > session.run(node1)\n",
    "3. update variables in the graph (and return values)"
   ]
  },
  {
   "cell_type": "code",
   "execution_count": 32,
   "metadata": {},
   "outputs": [
    {
     "name": "stdout",
     "output_type": "stream",
     "text": [
      "1: Tensor(\"Const_10:0\", shape=(), dtype=float32) 2: Tensor(\"Const_11:0\", shape=(), dtype=float32) 3: Tensor(\"Add_3:0\", shape=(), dtype=float32)\n"
     ]
    }
   ],
   "source": [
    "print('1:',node1,'2:',node2,'3:',node3) "
   ]
  },
  {
   "cell_type": "code",
   "execution_count": 36,
   "metadata": {},
   "outputs": [
    {
     "name": "stdout",
     "output_type": "stream",
     "text": [
      "sess.run(node1,node2): [3.0, 4.0]\n",
      "sess.run(node3): [7.0]\n"
     ]
    }
   ],
   "source": [
    "sess = tf.Session()\n",
    "print('sess.run(node1,node2):', sess.run([node1,node2])) ## [] 넣어야함 조심 \n",
    "print('sess.run(node3):',sess.run([node3]))"
   ]
  },
  {
   "cell_type": "markdown",
   "metadata": {},
   "source": [
    "## Placeholder\n",
    "실행시키면서 값을 넣어주고 싶다면 ?\n",
    "\n",
    "placeholder graph를 만들고 , session에 feed_dict을 사용하여 넣어준다"
   ]
  },
  {
   "cell_type": "code",
   "execution_count": 38,
   "metadata": {},
   "outputs": [],
   "source": [
    "b = tf.placeholder(tf.float32)\n",
    "a = tf.placeholder(tf.float32)\n",
    "adder_node = a + b # + provides a shortcut for tf.add(a,b)"
   ]
  },
  {
   "cell_type": "code",
   "execution_count": 49,
   "metadata": {},
   "outputs": [
    {
     "name": "stdout",
     "output_type": "stream",
     "text": [
      "7.5\n",
      "[ 3. 12.]\n",
      "[ 3. 12.]\n"
     ]
    }
   ],
   "source": [
    "print(sess.run(adder_node,feed_dict={a: 3, b: 4.5}))\n",
    "print(sess.run(adder_node,feed_dict={a: [1, 5], b: [2, 7]}))\n",
    "\n",
    "print(sess.run(a + b, feed_dict={a:[1, 5], b:[2, 7]}))"
   ]
  },
  {
   "cell_type": "markdown",
   "metadata": {},
   "source": [
    "## Tensor Ranks, Shapes and Types\n",
    "```python\n",
    "t = [[1,2,3],[4,5,6],[7,8,9]]\n",
    "```\n",
    "텐서란 위에 같이 리스트등의 데이터를 말함, 차원, 쉐입,타입 등을..."
   ]
  },
  {
   "cell_type": "code",
   "execution_count": null,
   "metadata": {},
   "outputs": [],
   "source": []
  }
 ],
 "metadata": {
  "kernelspec": {
   "display_name": "Python 3",
   "language": "python",
   "name": "python3"
  },
  "language_info": {
   "codemirror_mode": {
    "name": "ipython",
    "version": 3
   },
   "file_extension": ".py",
   "mimetype": "text/x-python",
   "name": "python",
   "nbconvert_exporter": "python",
   "pygments_lexer": "ipython3",
   "version": "3.6.5"
  }
 },
 "nbformat": 4,
 "nbformat_minor": 2
}
