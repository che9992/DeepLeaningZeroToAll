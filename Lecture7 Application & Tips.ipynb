{
 "cells": [
  {
   "cell_type": "markdown",
   "metadata": {},
   "source": [
    "# Lecture 7\n",
    "## Chapter 1 - Application & Tips\n",
    "<hr/>"
   ]
  },
  {
   "cell_type": "markdown",
   "metadata": {},
   "source": [
    "## 1. Data(X) preprocessing for gradient descent \n",
    "#### X1, X2 .. 들의 차이가 클때 \n",
    "- zero-centered data\n",
    "- normarlized data\n",
    "\n",
    "### Standardization\n",
    "\\\\(X'_j = \\dfrac{X_j - u_j}{σ_j}\\\\)\n",
    "```python\n",
    "X_std[:,0] = (X[:,0] - X[:,0].mean()) / X[:,0].std()\n",
    "```\n",
    "\n",
    "\n",
    "## 2 .Overfitting\n",
    "- Our model is very good with training data set (with memorization)\n",
    "- Not good at test dataset or in real use\n",
    "\n",
    "### Solutions for overfitting\n",
    "- More training data!\n",
    "- Reduce the number of features \n",
    "- Regularization\n",
    "\n",
    "\n",
    "### How to Regularization\n",
    "- Let's not have too big numbers in the weight \n",
    " - \\\\(cost = cost + number(regularization strength) \\sum W^2\\\\)\n",
    " - ```python \n",
    " l2reg = 0.001 * tf.reduce_sum(tf.square(W))\n",
    " ```"
   ]
  },
  {
   "cell_type": "markdown",
   "metadata": {},
   "source": [
    "<hr/>\n",
    "## Chapter 2 - Performance evaluation : is this good? \n",
    "<hr/>\n",
    "\n",
    "### don't using Training set to evaluation\n",
    "- 100% correct (accuracy)\n",
    "- Can memorize\n",
    "- Using Test set and Validation set to evaluation\n",
    "\n",
    "### Online learning\n",
    "\n",
    "### Accuracy\n",
    "- How many of your predictions are correct?\n",
    "- 95 ~ 99 % "
   ]
  },
  {
   "cell_type": "code",
   "execution_count": null,
   "metadata": {},
   "outputs": [],
   "source": []
  }
 ],
 "metadata": {
  "kernelspec": {
   "display_name": "Python 3",
   "language": "python",
   "name": "python3"
  },
  "language_info": {
   "codemirror_mode": {
    "name": "ipython",
    "version": 3
   },
   "file_extension": ".py",
   "mimetype": "text/x-python",
   "name": "python",
   "nbconvert_exporter": "python",
   "pygments_lexer": "ipython3",
   "version": "3.6.4"
  }
 },
 "nbformat": 4,
 "nbformat_minor": 2
}
