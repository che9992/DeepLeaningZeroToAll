{
 "cells": [
  {
   "cell_type": "markdown",
   "metadata": {},
   "source": [
    "# Lecture 7\n",
    "## MINIST Dataset\n",
    "<hr/>"
   ]
  },
  {
   "cell_type": "code",
   "execution_count": 1,
   "metadata": {},
   "outputs": [
    {
     "name": "stderr",
     "output_type": "stream",
     "text": [
      "/Users/che/anaconda3/lib/python3.6/site-packages/h5py/__init__.py:36: FutureWarning: Conversion of the second argument of issubdtype from `float` to `np.floating` is deprecated. In future, it will be treated as `np.float64 == np.dtype(float).type`.\n",
      "  from ._conv import register_converters as _register_converters\n"
     ]
    },
    {
     "name": "stdout",
     "output_type": "stream",
     "text": [
      "WARNING:tensorflow:From <ipython-input-1-cfae88d0ae29>:7: read_data_sets (from tensorflow.contrib.learn.python.learn.datasets.mnist) is deprecated and will be removed in a future version.\n",
      "Instructions for updating:\n",
      "Please use alternatives such as official/mnist/dataset.py from tensorflow/models.\n",
      "WARNING:tensorflow:From /Users/che/anaconda3/lib/python3.6/site-packages/tensorflow/contrib/learn/python/learn/datasets/mnist.py:260: maybe_download (from tensorflow.contrib.learn.python.learn.datasets.base) is deprecated and will be removed in a future version.\n",
      "Instructions for updating:\n",
      "Please write your own downloading logic.\n",
      "WARNING:tensorflow:From /Users/che/anaconda3/lib/python3.6/site-packages/tensorflow/contrib/learn/python/learn/datasets/mnist.py:262: extract_images (from tensorflow.contrib.learn.python.learn.datasets.mnist) is deprecated and will be removed in a future version.\n",
      "Instructions for updating:\n",
      "Please use tf.data to implement this functionality.\n",
      "Extracting MNIST_data/train-images-idx3-ubyte.gz\n",
      "WARNING:tensorflow:From /Users/che/anaconda3/lib/python3.6/site-packages/tensorflow/contrib/learn/python/learn/datasets/mnist.py:267: extract_labels (from tensorflow.contrib.learn.python.learn.datasets.mnist) is deprecated and will be removed in a future version.\n",
      "Instructions for updating:\n",
      "Please use tf.data to implement this functionality.\n",
      "Extracting MNIST_data/train-labels-idx1-ubyte.gz\n",
      "WARNING:tensorflow:From /Users/che/anaconda3/lib/python3.6/site-packages/tensorflow/contrib/learn/python/learn/datasets/mnist.py:110: dense_to_one_hot (from tensorflow.contrib.learn.python.learn.datasets.mnist) is deprecated and will be removed in a future version.\n",
      "Instructions for updating:\n",
      "Please use tf.one_hot on tensors.\n",
      "Extracting MNIST_data/t10k-images-idx3-ubyte.gz\n",
      "Extracting MNIST_data/t10k-labels-idx1-ubyte.gz\n",
      "WARNING:tensorflow:From /Users/che/anaconda3/lib/python3.6/site-packages/tensorflow/contrib/learn/python/learn/datasets/mnist.py:290: DataSet.__init__ (from tensorflow.contrib.learn.python.learn.datasets.mnist) is deprecated and will be removed in a future version.\n",
      "Instructions for updating:\n",
      "Please use alternatives such as official/mnist/dataset.py from tensorflow/models.\n"
     ]
    }
   ],
   "source": [
    "import numpy as np\n",
    "import tensorflow as tf\n",
    "import matplotlib.pyplot as plt\n",
    "import random \n",
    "from tensorflow.examples.tutorials.mnist import input_data\n",
    "\n",
    "mnist = input_data.read_data_sets('MNIST_data/', one_hot = True)"
   ]
  },
  {
   "cell_type": "code",
   "execution_count": 2,
   "metadata": {},
   "outputs": [
    {
     "name": "stdout",
     "output_type": "stream",
     "text": [
      "WARNING:tensorflow:From <ipython-input-2-3ec7e410003c>:5: arg_max (from tensorflow.python.ops.gen_math_ops) is deprecated and will be removed in a future version.\n",
      "Instructions for updating:\n",
      "Use `argmax` instead\n",
      "[7] [3] [4] [6] [1] [8] [1] [0] [9] [8] "
     ]
    },
    {
     "data": {
      "image/png": "[encoded data removed]",
      "text/plain": [
       "<Figure size 432x288 with 10 Axes>"
      ]
     },
     "metadata": {},
     "output_type": "display_data"
    }
   ],
   "source": [
    "# check train images\n",
    "sess = tf.Session()\n",
    "for r in range(0,10):\n",
    "    plt.subplot(3,5,r+1)\n",
    "    print(sess.run(tf.arg_max(mnist.train.labels[r:r+1],1)), end=' ')\n",
    "    plt.imshow(mnist.train.images[r:r+1].reshape(28, 28),\n",
    "              cmap = 'Greys', interpolation='nearest')\n",
    "    plt.tight_layout()"
   ]
  },
  {
   "cell_type": "code",
   "execution_count": 3,
   "metadata": {},
   "outputs": [],
   "source": [
    "nb_classes = 10\n",
    "\n",
    "#MNIST data image of shape 28 * 28 = 784\n",
    "X = tf.placeholder(tf.float32, [None, 784])\n",
    "\n",
    "# 0 ~ 9 digits recognition = 10 classes\n",
    "Y = tf.placeholder(tf.float32, [None, nb_classes])\n",
    "\n",
    "\n",
    "W1 = tf.Variable(tf.random_normal([784, 1000]))\n",
    "b1 = tf.Variable(tf.random_normal([1000]))\n",
    "layer1 = tf.nn.softmax(tf.matmul(X, W1) + b1)\n",
    "\n",
    "'''\n",
    "W2 = tf.Variable(tf.random_normal([1000, 1000]))\n",
    "b2 = tf.Variable(tf.random_normal([1000]))\n",
    "layer2 = tf.nn.softmax(tf.matmul(layer1, W2) + b2)\n",
    "\n",
    "W3 = tf.Variable(tf.random_normal([1000, 1000]))\n",
    "b3 = tf.Variable(tf.random_normal([1000]))\n",
    "layer3 = tf.nn.softmax(tf.matmul(layer2, W3) + b3)\n",
    "\n",
    "'''\n",
    "\n",
    "W4 = tf.Variable(tf.random_normal([1000, 1000]))\n",
    "b4 = tf.Variable(tf.random_normal([1000]))\n",
    "layer4 = tf.nn.softmax(tf.matmul(layer1, W4) + b4)\n",
    "\n",
    "W5 = tf.Variable(tf.random_normal([1000, nb_classes]))\n",
    "b5 = tf.Variable(tf.random_normal([nb_classes]))\n",
    "hypothesis = tf.nn.softmax(tf.matmul(layer4, W5) + b5)\n",
    "\n",
    "\n",
    "'''\n",
    "W = tf.Variable(tf.random_normal([784, nb_classes]))\n",
    "b = tf.Variable(tf.random_normal([nb_classes]))\n",
    "hypothesis = tf.nn.softmax(tf.matmul(X, W) + b)\n",
    "\n",
    "'''\n",
    "\n",
    "\n",
    "cost = tf.reduce_mean(-tf.reduce_sum(Y * tf.log(hypothesis), axis = 1))\n",
    "optimizer = tf.train.GradientDescentOptimizer(learning_rate=4).minimize(cost)\n",
    "\n",
    "is_correct = tf.equal(tf.arg_max(hypothesis, 1), tf.arg_max(Y, 1))\n",
    "accuracy = tf.reduce_mean(tf.cast(is_correct, tf.float32))\n",
    "\n",
    "sess = tf.Session()\n",
    "sess.run(tf.global_variables_initializer())"
   ]
  },
  {
   "cell_type": "markdown",
   "metadata": {},
   "source": [
    "## Training epoch / batch"
   ]
  },
  {
   "cell_type": "code",
   "execution_count": null,
   "metadata": {},
   "outputs": [
    {
     "name": "stdout",
     "output_type": "stream",
     "text": [
      "Epoch: 0001, cost =  0.204467748\n",
      "Accuracy: 95.75% \n",
      "\n",
      "Epoch: 0002, cost =  0.200979180\n",
      "Accuracy: 95.80% \n",
      "\n",
      "Epoch: 0003, cost =  0.200769464\n",
      "Accuracy: 96.00% \n",
      "\n",
      "Epoch: 0004, cost =  0.196398511\n"
     ]
    }
   ],
   "source": [
    "training_epochs = 10\n",
    "batch_size = 200\n",
    "\n",
    "for epoch in range(training_epochs):\n",
    "    avg_cost = 0\n",
    "    total_batch = int(mnist.train.num_examples / batch_size)\n",
    "    \n",
    "    for i in range(total_batch):\n",
    "        batch_xs, batch_ys = mnist.train.next_batch(batch_size)\n",
    "        c, _ = sess.run([cost, optimizer], feed_dict= {X: batch_xs, Y: batch_ys})\n",
    "        avg_cost += c / total_batch\n",
    "    \n",
    "    print(\"Epoch:\", '%04d,' % (epoch + 1), 'cost = ', '{:.9f}'.format(avg_cost))\n",
    "    print('Accuracy: {:.2f}% \\n' .format(accuracy.eval(session=sess, feed_dict={X:mnist.train.images, Y:mnist.train.labels}) * 100 ,'%'))\n",
    "    \n",
    "print(\"\\n\\n\", sess.run(hypothesis, feed_dict={X: batch_xs, Y: batch_ys}))"
   ]
  },
  {
   "cell_type": "markdown",
   "metadata": {},
   "source": [
    "## Test after train"
   ]
  },
  {
   "cell_type": "code",
   "execution_count": 17,
   "metadata": {},
   "outputs": [
    {
     "name": "stdout",
     "output_type": "stream",
     "text": [
      "----- TEST -----\n",
      "Accuracy: 93.77% \n",
      "\n"
     ]
    }
   ],
   "source": [
    "print('----- TEST -----')\n",
    "print('Accuracy: {:.2f}% \\n' \n",
    "      .format(accuracy.eval(session=sess, feed_dict={X:mnist.test.images, Y:mnist.test.labels}) * 100 ,'%'))"
   ]
  },
  {
   "cell_type": "markdown",
   "metadata": {},
   "source": [
    "## Sample image show and prediction"
   ]
  },
  {
   "cell_type": "code",
   "execution_count": 18,
   "metadata": {},
   "outputs": [
    {
     "name": "stdout",
     "output_type": "stream",
     "text": [
      "Label:  [5]\n",
      "Prediction:  [5]\n"
     ]
    },
    {
     "data": {
      "image/png": "[encoded data removed]",
      "text/plain": [
       "<Figure size 432x288 with 1 Axes>"
      ]
     },
     "metadata": {},
     "output_type": "display_data"
    }
   ],
   "source": [
    "r = random.randint(0, mnist.test.num_examples - 1)\n",
    "print('Label: ', sess.run(tf.arg_max(mnist.test.labels[r:r+1], 1)))\n",
    "print('Prediction: ', sess.run(tf.arg_max(hypothesis, 1), feed_dict={X: mnist.test.images[r:r+1]}))\n",
    "\n",
    "plt.imshow(mnist.test.images[r:r+1].reshape(28, 28),\n",
    "          cmap = 'Greys', interpolation='nearest')\n",
    "plt.show()"
   ]
  },
  {
   "cell_type": "code",
   "execution_count": 10,
   "metadata": {},
   "outputs": [
    {
     "data": {
      "image/png": "[encoded data removed]",
      "text/plain": [
       "<Figure size 432x288 with 9 Axes>"
      ]
     },
     "metadata": {},
     "output_type": "display_data"
    }
   ],
   "source": [
    "for i in range(9):\n",
    "\n",
    "    r = random.randint(0, mnist.test.num_examples - 1)\n",
    "    plt.subplot(3,3,i+1)\n",
    "\n",
    "    plt.title('Label: {}, Pre: {}'.format(sess.run(tf.arg_max(mnist.test.labels[r:r+1], 1)),\n",
    "                                                  sess.run(tf.arg_max(hypothesis, 1), \n",
    "                                                           feed_dict={X: mnist.test.images[r:r+1]})))\n",
    "    plt.imshow(mnist.test.images[r:r+1].reshape(28, 28),\n",
    "          cmap = 'Greys', interpolation='nearest')\n",
    "    plt.tight_layout()"
   ]
  },
  {
   "cell_type": "markdown",
   "metadata": {},
   "source": [
    "## Using TensorBoard"
   ]
  },
  {
   "cell_type": "code",
   "execution_count": 12,
   "metadata": {},
   "outputs": [],
   "source": [
    "with tf.name_scope('Layer1') as scope:\n",
    "    w1_hist = tf.summary.histogram('weights1', W1)\n",
    "    b1_hist = tf.summary.histogram('biases1', b1)\n",
    "    layer1_hist = tf.summary.histogram('layer1', layer1)\n",
    "\n",
    "with tf.name_scope('Layer4') as scope:\n",
    "    w4_hist = tf.summary.histogram('weights4', W4)\n",
    "    b4_hist = tf.summary.histogram('biases4', b4)\n",
    "    layer4_hist = tf.summary.histogram('layer4', layer4)\n",
    "    \n",
    "with tf.name_scope('hypothesis') as scope:\n",
    "    w5_hist = tf.summary.histogram('weights5', W5)\n",
    "    b5_hist = tf.summary.histogram('biases5', b5)\n",
    "    hypothesis_hist = tf.summary.histogram('hypothesis', hypothesis)\n",
    "    \n",
    "    \n",
    "cost_summ = tf.summary.scalar('cost', cost)\n",
    "\n",
    "summary = tf.summary.merge_all()\n",
    "\n",
    "writer = tf.summary.FileWriter('./logs')\n",
    "writer.add_graph(sess.graph)\n",
    "\n",
    "s, _ = sess.run([summary, optimizer], feed_dict = {X:mnist.train.images, Y:mnist.train.labels})\n",
    "writer.add_summary(s, global_step = 10)"
   ]
  },
  {
   "cell_type": "code",
   "execution_count": 13,
   "metadata": {},
   "outputs": [],
   "source": []
  },
  {
   "cell_type": "code",
   "execution_count": null,
   "metadata": {},
   "outputs": [],
   "source": []
  }
 ],
 "metadata": {
  "kernelspec": {
   "display_name": "Python 3",
   "language": "python",
   "name": "python3"
  },
  "language_info": {
   "codemirror_mode": {
    "name": "ipython",
    "version": 3
   },
   "file_extension": ".py",
   "mimetype": "text/x-python",
   "name": "python",
   "nbconvert_exporter": "python",
   "pygments_lexer": "ipython3",
   "version": "3.6.4"
  }
 },
 "nbformat": 4,
 "nbformat_minor": 2
}
