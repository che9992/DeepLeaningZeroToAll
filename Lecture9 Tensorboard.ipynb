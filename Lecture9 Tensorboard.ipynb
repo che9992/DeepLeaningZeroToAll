{
 "cells": [
  {
   "cell_type": "markdown",
   "metadata": {},
   "source": [
    "# Lecture9 \n",
    "## Tensorboard <hr/>"
   ]
  },
  {
   "cell_type": "markdown",
   "metadata": {},
   "source": [
    "## 5 steps of using TensorBoard\n",
    "\n",
    "### 1. From TF graph decide which tensors you want to log\n",
    "```python\n",
    "w2_hist = tf.summary.histogram('weights2', W2)\n",
    "cost_summ = tf.summary.scalar('cost', cost)\n",
    "```\n",
    "\n",
    "\n",
    "### 2. Merge all summaries\n",
    "```python\n",
    "summary = tf.summary.merge_all()\n",
    "```\n",
    "\n",
    "\n",
    "### 3. Create writer and add graph\n",
    "```python\n",
    "writer = tf.summary.FileWriter('./logs')\n",
    "writer.add_graph(sess.graph)\n",
    "```\n",
    "\n",
    "### 4. Run summary merge and add_summary\n",
    "```python\n",
    "s, _ = sess.run([summary, optimizer], feed_dict = feed_dict)\n",
    "writer.add_summary(s, global_step = global_step)\n",
    "```\n",
    "\n",
    "### 5. Launch TensorBoard\n",
    "```python\n",
    "tensorboard --logdir=./logs\n",
    "```"
   ]
  },
  {
   "cell_type": "markdown",
   "metadata": {},
   "source": [
    "<hr/>\n",
    "## Histogram (multi-dimensional tensors)\n",
    "\n",
    "```python\n",
    "W2 = tf.Variable(tf.random_normal([2,1]))\n",
    "b2 = tf.Variable(tf.random_normal([1]))\n",
    "hypothesis = tf.sigmoid(tf.matmul(layer1,W2)+b2)\n",
    "\n",
    "w2_hist = tf.summary.histogram('weights2', W2)\n",
    "b2_hist = tf.summary.histogram('biases2', b2)\n",
    "hypothesis_hiost = tf.summary.histogram('hypothesis',hypothesis)\n",
    "```\n",
    "\n",
    "<hr/>\n",
    "## Add scope for better graph hierarchy\n",
    "```python\n",
    "with tf.name_scope('layer1') as scope:\n",
    "    W1 = tf.Variable(tf.random_normal([2,2]), name = 'weight1')\n",
    "    b1 = tf.Variable(tf.random_normal([2]), name = 'bias1')\n",
    "    layer1 = tf.sigmoid(tf.matmul(X, W1) + b1)\n",
    "    \n",
    "    w1_hist = tf.summary.histogram('weights1', W1)\n",
    "    b1_hist = tf.summary.histogram('biases1', b1)\n",
    "    layer1_hist = tf.summary.histogram('layer1', layer1)\n",
    "\n",
    "    \n",
    "with tf.name_scope('layer2') as scope:\n",
    "    W2 = tf.Variable(tf.random_normal([2,1]), name = 'weight2')\n",
    "    b2 = tf.Variable(tf.random_normal([1]), name = 'bias2')\n",
    "    hypothesis = tf.sigmoid(tf.matmul(layer1, W2) + b2)\n",
    "    \n",
    "    w2_hist = tf.summary.histogram('weights2', W2)\n",
    "    b2_hist = tf.summary.histogram('biases2', b2)\n",
    "    hypothesis_hist = tf.summary.histogram('hypothesis', hypothesis)    \n",
    "```\n",
    "\n",
    "\n",
    "<hr/>\n",
    "## Multiple runs\n",
    "tensorboard -logdir=./log/xor_logs\n",
    "```python\n",
    "train = tf.train.GradientDescentOptimizer(learning_rate = 0.1).minimize(cost)\n",
    "...\n",
    "writer = tf.summary.FileWriter('.logs/xor_logs')\n",
    "```\n",
    "tensorboard -logdir=./log/xor_logs_r0_01\n",
    "```python\n",
    "train = tf.train.GradientDescentOptimizer(learning_rate = 0.01).minimize(cost)\n",
    "...\n",
    "writer = tf.summary.FileWriter('.logs/xor_logs_r0_01')\n",
    "```\n",
    "\n",
    "tensorboard -logdir=./logs"
   ]
  },
  {
   "cell_type": "code",
   "execution_count": null,
   "metadata": {},
   "outputs": [],
   "source": []
  }
 ],
 "metadata": {
  "kernelspec": {
   "display_name": "Python 3",
   "language": "python",
   "name": "python3"
  },
  "language_info": {
   "codemirror_mode": {
    "name": "ipython",
    "version": 3
   },
   "file_extension": ".py",
   "mimetype": "text/x-python",
   "name": "python",
   "nbconvert_exporter": "python",
   "pygments_lexer": "ipython3",
   "version": "3.6.4"
  }
 },
 "nbformat": 4,
 "nbformat_minor": 2
}
